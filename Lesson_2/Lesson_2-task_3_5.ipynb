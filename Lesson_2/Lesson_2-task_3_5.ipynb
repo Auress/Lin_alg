{
 "cells": [
  {
   "cell_type": "markdown",
   "metadata": {},
   "source": [
    "### ДЗ 2. Урок 3&4. Матрицы и матричные операции#"
   ]
  },
  {
   "cell_type": "markdown",
   "metadata": {},
   "source": [
    "### -- Автор: Шенк Евгений Станиславович"
   ]
  },
  {
   "cell_type": "markdown",
   "metadata": {},
   "source": [
    "### !!! Данный файл является дополнением к файлу ДЗ_ 2 _Шенк_ЕС.docx"
   ]
  },
  {
   "cell_type": "markdown",
   "metadata": {},
   "source": [
    "### Задание 3.5."
   ]
  },
  {
   "cell_type": "code",
   "execution_count": 40,
   "metadata": {},
   "outputs": [],
   "source": [
    "def matrix_mult(A: list, B: list) -> list:\n",
    "    result = []\n",
    "    shape_A_row = 0\n",
    "    shape_A_col = 0\n",
    "    shape_B_row = 0\n",
    "    shape_B_col = 0  \n",
    "    \n",
    "    if isinstance(A[0], (int, float)):            \n",
    "        shape_A_row = 1\n",
    "        shape_A_col = len(A)\n",
    "    if isinstance(B[0], (int, float)):            \n",
    "        shape_B_row = 1\n",
    "        shape_B_col = len(B)\n",
    "    if isinstance(A[0], (list)):\n",
    "        shape_A_row = len(A)\n",
    "        shape_A_col = len(A[0])\n",
    "    if isinstance(B[0], (list)):\n",
    "        shape_B_row = len(B)\n",
    "        shape_B_col = len(B[0])\n",
    "    \n",
    "    for x in A: #Проверка данных в матрице A\n",
    "        \n",
    "        if not isinstance(x, (int, float, list)):\n",
    "            msg = 'неверные титы данных в матрице А'\n",
    "            raise ValueError(msg) \n",
    "            \n",
    "        if isinstance(x, (list)) and shape_A_row == 1:            \n",
    "            msg = 'все элементы матрицы A должны быть либо int/float, либо list одинаковой длинны'\n",
    "            raise ValueError(msg)\n",
    "        elif isinstance(x, (list)) and len(x) != shape_A_col:\n",
    "            msg = 'колонки матрицы A разного размера'\n",
    "            raise ValueError(msg)\n",
    "        \n",
    "        if isinstance(x, (int, float)) and shape_A_row != 1:            \n",
    "            msg = 'все элементы матрицы A должны быть либо int/float, либо list одинаковой длинны'\n",
    "            raise ValueError(msg)\n",
    "\n",
    "\n",
    "    for x in B: #Проверка данных в матрице B\n",
    "        \n",
    "        if not isinstance(x, (int, float, list)):\n",
    "            msg = 'неверные титы данных в матрице B'\n",
    "            raise ValueError(msg) \n",
    "            \n",
    "        if isinstance(x, (list)) and shape_B_row == 1:            \n",
    "            msg = 'все элементы матрицы B должны быть либо int/float, либо list одинаковой длинны'\n",
    "            raise ValueError(msg)\n",
    "        elif isinstance(x, (list)) and len(x) != shape_B_col:\n",
    "            msg = 'колонки матрицы B разного размера'\n",
    "            raise ValueError(msg)\n",
    "        \n",
    "        if isinstance(x, (int, float)) and shape_B_row != 1:\n",
    "            msg = 'все элементы матрицы B должны быть либо int/float, либо list одинаковой длинны'\n",
    "            raise ValueError(msg)\n",
    "\n",
    "    if shape_A_col != shape_B_row:\n",
    "        msg = 'для перемножения матриц требуются матрицы размера m*n и n*p, количество столбцов матрицы А != кол-ву строк матрицы В'\n",
    "        raise ValueError(msg)\n",
    "    \n",
    "    # Преобразуем в матрицу\n",
    "    if isinstance(A[0], (int, float)):\n",
    "        A = [A]\n",
    "    if isinstance(B[0], (int, float)):\n",
    "        B = [B]  \n",
    "    \n",
    "    # Создаем результирующую матрицу заполенную нулями\n",
    "    result = [ [0 for i in range(shape_B_col)] for j in range(shape_A_row)]\n",
    "    \n",
    "    # Заполняем результат\n",
    "    cell = 0\n",
    "    for A_row in range(shape_A_row):\n",
    "        for B_col in range(shape_B_col):\n",
    "            cell = 0\n",
    "            for x in range(shape_A_col):\n",
    "                cell += A[A_row][x] * B[x][B_col]\n",
    "            result[A_row][B_col] = cell\n",
    "    \n",
    "    return result"
   ]
  },
  {
   "cell_type": "code",
   "execution_count": 65,
   "metadata": {},
   "outputs": [],
   "source": [
    "# Тест 1\n",
    "A = [[1, 2], [2, 4], [6, 8], [7, 9]]\n",
    "B = [[1, 2, 3],[4, 5, 6]]"
   ]
  },
  {
   "cell_type": "code",
   "execution_count": 66,
   "metadata": {},
   "outputs": [
    {
     "data": {
      "text/plain": [
       "[[9, 12, 15], [18, 24, 30], [38, 52, 66], [43, 59, 75]]"
      ]
     },
     "execution_count": 66,
     "metadata": {},
     "output_type": "execute_result"
    }
   ],
   "source": [
    "matrix_mult(A=A, B=B)"
   ]
  },
  {
   "cell_type": "code",
   "execution_count": 67,
   "metadata": {},
   "outputs": [],
   "source": [
    "# Тест 2\n",
    "A = [6, 8]\n",
    "B = [[1, 2, 3],[4, 5, 6]]"
   ]
  },
  {
   "cell_type": "code",
   "execution_count": 68,
   "metadata": {},
   "outputs": [
    {
     "data": {
      "text/plain": [
       "[[38, 52, 66]]"
      ]
     },
     "execution_count": 68,
     "metadata": {},
     "output_type": "execute_result"
    }
   ],
   "source": [
    "matrix_mult(A=A, B=B)"
   ]
  },
  {
   "cell_type": "code",
   "execution_count": 61,
   "metadata": {},
   "outputs": [],
   "source": [
    "# Тест 3\n",
    "A = [6, 8, [10, 11]]\n",
    "B = [[1, 2, 3],[4, 5, 6]]"
   ]
  },
  {
   "cell_type": "code",
   "execution_count": 62,
   "metadata": {},
   "outputs": [],
   "source": [
    "# matrix_mult(A=A, B=B) #Нормально выдает ошибку"
   ]
  },
  {
   "cell_type": "code",
   "execution_count": 63,
   "metadata": {},
   "outputs": [],
   "source": [
    "# Тест 4\n",
    "A = [[6], [8], [10, 11]]\n",
    "B = [[1, 2, 3],[4, 5, 6]]"
   ]
  },
  {
   "cell_type": "code",
   "execution_count": 64,
   "metadata": {},
   "outputs": [],
   "source": [
    "# matrix_mult(A=A, B=B) #Нормально выдает ошибку"
   ]
  },
  {
   "cell_type": "code",
   "execution_count": 71,
   "metadata": {},
   "outputs": [],
   "source": [
    "# Тест 5\n",
    "A = [[1, 2], [2, 4], [6, 8], [7, 9]]\n",
    "B = [[1, 2, 3], [4, 5, 6], [7, 8, 9]]"
   ]
  },
  {
   "cell_type": "code",
   "execution_count": 72,
   "metadata": {},
   "outputs": [],
   "source": [
    "# matrix_mult(A=A, B=B) #Нормально выдает ошибку"
   ]
  },
  {
   "cell_type": "code",
   "execution_count": null,
   "metadata": {},
   "outputs": [],
   "source": []
  },
  {
   "cell_type": "code",
   "execution_count": 48,
   "metadata": {},
   "outputs": [
    {
     "data": {
      "text/plain": [
       "array([[ 9, 12, 15],\n",
       "       [18, 24, 30],\n",
       "       [38, 52, 66],\n",
       "       [43, 59, 75]])"
      ]
     },
     "execution_count": 48,
     "metadata": {},
     "output_type": "execute_result"
    }
   ],
   "source": [
    "# Проверка с помощью Numpy:\n",
    "import numpy as np\n",
    "\n",
    "A1 = np.array([[1, 2], [2, 4], [6, 8], [7, 9]])\n",
    "B1 = np.array([[1, 2, 3],[4, 5, 6]])\n",
    "A1.dot(B1)"
   ]
  },
  {
   "cell_type": "code",
   "execution_count": 54,
   "metadata": {},
   "outputs": [
    {
     "data": {
      "text/plain": [
       "array([[38, 52, 66]])"
      ]
     },
     "execution_count": 54,
     "metadata": {},
     "output_type": "execute_result"
    }
   ],
   "source": [
    "A1 = np.array([[6, 8]])\n",
    "B1 = np.array([[1, 2, 3],[4, 5, 6]])\n",
    "A1.dot(B1)"
   ]
  },
  {
   "cell_type": "code",
   "execution_count": null,
   "metadata": {},
   "outputs": [],
   "source": []
  }
 ],
 "metadata": {
  "kernelspec": {
   "display_name": "Python 3",
   "language": "python",
   "name": "python3"
  },
  "language_info": {
   "codemirror_mode": {
    "name": "ipython",
    "version": 3
   },
   "file_extension": ".py",
   "mimetype": "text/x-python",
   "name": "python",
   "nbconvert_exporter": "python",
   "pygments_lexer": "ipython3",
   "version": "3.7.3"
  }
 },
 "nbformat": 4,
 "nbformat_minor": 2
}

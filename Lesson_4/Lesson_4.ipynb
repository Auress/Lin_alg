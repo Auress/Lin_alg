{
 "cells": [
  {
   "cell_type": "markdown",
   "metadata": {},
   "source": [
    "### ДЗ 4. Урок 6&7. Системы линейных уравнений#"
   ]
  },
  {
   "cell_type": "markdown",
   "metadata": {},
   "source": [
    "### -- Автор: Шенк Евгений Станиславович"
   ]
  },
  {
   "cell_type": "markdown",
   "metadata": {},
   "source": [
    "### !!! Данный файл является дополнением к файлу ДЗ_ 4 _Шенк_ЕС.docx"
   ]
  },
  {
   "cell_type": "code",
   "execution_count": 1,
   "metadata": {},
   "outputs": [],
   "source": [
    "import math\n",
    "import numpy as np\n",
    "import scipy.linalg as lin"
   ]
  },
  {
   "cell_type": "markdown",
   "metadata": {},
   "source": [
    "### Задание 6.2."
   ]
  },
  {
   "cell_type": "code",
   "execution_count": 2,
   "metadata": {},
   "outputs": [
    {
     "name": "stdout",
     "output_type": "stream",
     "text": [
      "x:\n",
      " [1.   0.75 1.75]\n",
      "\n"
     ]
    }
   ],
   "source": [
    "# а\n",
    "a = np.array([[3, -1, 1], [2, -5, -3], [1, 1, -1]])\n",
    "b = np.array([4, -7, 0])\n",
    "x = lin.solve(a,b)\n",
    "print (f'x:\\n {x}\\n')"
   ]
  },
  {
   "cell_type": "markdown",
   "metadata": {},
   "source": [
    "### Задание 6.3."
   ]
  },
  {
   "cell_type": "code",
   "execution_count": 3,
   "metadata": {},
   "outputs": [
    {
     "name": "stdout",
     "output_type": "stream",
     "text": [
      "x:\n",
      " [2.76666667 0.3        1.33333333 0.5       ]\n",
      "\n"
     ]
    }
   ],
   "source": [
    "a = np.array([[1, 3, -2, 4], [0, 5, 0, 1], [0, 0, 3, 0], [0, 0, 0, 2]])\n",
    "b = np.array([3, 2, 4, 1])\n",
    "x = lin.solve(a,b)\n",
    "print (f'x:\\n {x}\\n')"
   ]
  },
  {
   "cell_type": "markdown",
   "metadata": {},
   "source": [
    "### Задание 7.1."
   ]
  },
  {
   "cell_type": "code",
   "execution_count": 4,
   "metadata": {},
   "outputs": [
    {
     "data": {
      "text/plain": [
       "43.0"
      ]
     },
     "execution_count": 4,
     "metadata": {},
     "output_type": "execute_result"
    }
   ],
   "source": [
    "a = np.array([[2, -1, 5], [1, 1, -3], [2, 4, 1]])\n",
    "b = np.array([10, -2, 1])\n",
    "lin.det(a)"
   ]
  },
  {
   "cell_type": "code",
   "execution_count": 5,
   "metadata": {},
   "outputs": [
    {
     "name": "stdout",
     "output_type": "stream",
     "text": [
      "a1:\n",
      " [[10 -1  5]\n",
      " [-2  1 -3]\n",
      " [ 1  4  1]]\n",
      "\n",
      "86.00000000000004\n"
     ]
    }
   ],
   "source": [
    "a1=np.column_stack([b,a[:,1:]])\n",
    "detA1=np.linalg.det(a1)\n",
    "print (f'a1:\\n {a1}\\n\\n{detA1}')"
   ]
  },
  {
   "cell_type": "code",
   "execution_count": 6,
   "metadata": {},
   "outputs": [
    {
     "name": "stdout",
     "output_type": "stream",
     "text": [
      "a1:\n",
      " [[ 2 10  5]\n",
      " [ 1 -2 -3]\n",
      " [ 2  1  1]]\n",
      "\n",
      "-43.000000000000014\n"
     ]
    }
   ],
   "source": [
    "a2=np.column_stack([a[:,0],b,a[:,2:]])\n",
    "detA2=np.linalg.det(a2)\n",
    "print (f'a1:\\n {a2}\\n\\n{detA2}')"
   ]
  },
  {
   "cell_type": "code",
   "execution_count": 7,
   "metadata": {},
   "outputs": [
    {
     "name": "stdout",
     "output_type": "stream",
     "text": [
      "a1:\n",
      " [[ 2 -1 10]\n",
      " [ 1  1 -2]\n",
      " [ 2  4  1]]\n",
      "\n",
      "42.99999999999998\n"
     ]
    }
   ],
   "source": [
    "a3=np.column_stack([a[:,:2],b])\n",
    "detA3=np.linalg.det(a3)\n",
    "print (f'a1:\\n {a3}\\n\\n{detA3}')"
   ]
  },
  {
   "cell_type": "code",
   "execution_count": 8,
   "metadata": {},
   "outputs": [
    {
     "name": "stdout",
     "output_type": "stream",
     "text": [
      "x:\n",
      " [ 2. -1.  1.]\n",
      "\n"
     ]
    }
   ],
   "source": [
    "x = lin.solve(a,b)\n",
    "print (f'x:\\n {x}\\n')"
   ]
  },
  {
   "cell_type": "markdown",
   "metadata": {},
   "source": [
    "### Задание 7.2."
   ]
  },
  {
   "cell_type": "code",
   "execution_count": 9,
   "metadata": {},
   "outputs": [
    {
     "data": {
      "text/plain": [
       "(array([[ 3.        , 26.        , 30.        ],\n",
       "        [ 0.66666667, -8.33333333, -8.        ],\n",
       "        [ 0.33333333,  0.8       ,  0.4       ]]),\n",
       " array([2, 1, 2], dtype=int32))"
      ]
     },
     "execution_count": 9,
     "metadata": {},
     "output_type": "execute_result"
    }
   ],
   "source": [
    "a = np.array([[1, 2, 4], [2, 9, 12], [3, 26, 30]])\n",
    "lin.lu_factor(a)"
   ]
  },
  {
   "cell_type": "code",
   "execution_count": 10,
   "metadata": {},
   "outputs": [
    {
     "data": {
      "text/plain": [
       "array([[ 1,  2,  4],\n",
       "       [ 2,  9, 12],\n",
       "       [ 3, 26, 30]])"
      ]
     },
     "execution_count": 10,
     "metadata": {},
     "output_type": "execute_result"
    }
   ],
   "source": [
    "u = np.array([[1, 2, 4], [0, 5, 4], [0, 0, 2]])\n",
    "l = np.array([[1, 0, 0], [2, 1, 0], [3, 4, 1]])\n",
    "l.dot(u)"
   ]
  },
  {
   "cell_type": "code",
   "execution_count": 11,
   "metadata": {},
   "outputs": [
    {
     "data": {
      "text/plain": [
       "(array([[  4.        ,  22.        ,  53.        ,  33.        ],\n",
       "        [  0.5       ,  -6.        , -18.5       ,  -7.5       ],\n",
       "        [  0.75      ,  -0.25      , -15.375     ,  -8.625     ],\n",
       "        [  0.25      ,   0.75      ,  -0.17073171,  -0.09756098]]),\n",
       " array([3, 1, 2, 3], dtype=int32))"
      ]
     },
     "execution_count": 11,
     "metadata": {},
     "output_type": "execute_result"
    }
   ],
   "source": [
    "a = np.array([[1, 1, 2, 4], [2, 5, 8, 9], [3, 18, 29, 18], [4, 22, 53, 33]])\n",
    "lin.lu_factor(a)"
   ]
  },
  {
   "cell_type": "code",
   "execution_count": 12,
   "metadata": {},
   "outputs": [
    {
     "data": {
      "text/plain": [
       "array([[ 1,  1,  2,  4],\n",
       "       [ 2,  5,  8,  9],\n",
       "       [ 3, 18, 29, 18],\n",
       "       [ 4, 22, 53, 33]])"
      ]
     },
     "execution_count": 12,
     "metadata": {},
     "output_type": "execute_result"
    }
   ],
   "source": [
    "u = np.array([[1, 1, 2, 4], [0, 3, 4, 1], [0, 0, 3 ,1], [0, 0, 0, 4]])\n",
    "l = np.array([[1, 0, 0, 0], [2, 1, 0, 0], [3, 5, 1, 0], [4, 6, 7, 1]])\n",
    "l.dot(u)"
   ]
  },
  {
   "cell_type": "markdown",
   "metadata": {},
   "source": [
    "### Задание 7.3."
   ]
  },
  {
   "cell_type": "code",
   "execution_count": 13,
   "metadata": {},
   "outputs": [
    {
     "data": {
      "text/plain": [
       "array([-1.00000000e+00,  2.44249065e-16,  1.00000000e+00])"
      ]
     },
     "execution_count": 13,
     "metadata": {},
     "output_type": "execute_result"
    }
   ],
   "source": [
    "a = np.array([[2, 1, 3], [11, 7, 5], [9, 8, 4]])\n",
    "b = np.array([1, -6, -5])\n",
    "lu, piv = lin.lu_factor(a)\n",
    "lin.lu_solve((lu, piv), b)"
   ]
  },
  {
   "cell_type": "code",
   "execution_count": 14,
   "metadata": {},
   "outputs": [
    {
     "data": {
      "text/plain": [
       "array([-1.00000000e+00,  2.44249065e-16,  1.00000000e+00])"
      ]
     },
     "execution_count": 14,
     "metadata": {},
     "output_type": "execute_result"
    }
   ],
   "source": [
    "lin.solve(a, b)"
   ]
  },
  {
   "cell_type": "markdown",
   "metadata": {},
   "source": [
    "### Задание 7.4."
   ]
  },
  {
   "cell_type": "code",
   "execution_count": 15,
   "metadata": {},
   "outputs": [
    {
     "data": {
      "text/plain": [
       "array([ 6., -5., -4.])"
      ]
     },
     "execution_count": 15,
     "metadata": {},
     "output_type": "execute_result"
    }
   ],
   "source": [
    "a = np.array([[81, -45, 45], [-45, 50, -15], [45, -15, 38]])\n",
    "b = np.array([531, -460, 193])\n",
    "lin.solve(a, b)"
   ]
  },
  {
   "cell_type": "code",
   "execution_count": null,
   "metadata": {},
   "outputs": [],
   "source": []
  }
 ],
 "metadata": {
  "kernelspec": {
   "display_name": "Python 3",
   "language": "python",
   "name": "python3"
  },
  "language_info": {
   "codemirror_mode": {
    "name": "ipython",
    "version": 3
   },
   "file_extension": ".py",
   "mimetype": "text/x-python",
   "name": "python",
   "nbconvert_exporter": "python",
   "pygments_lexer": "ipython3",
   "version": "3.7.3"
  }
 },
 "nbformat": 4,
 "nbformat_minor": 2
}
